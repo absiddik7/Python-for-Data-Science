{
 "cells": [
  {
   "cell_type": "markdown",
   "id": "5500c9df",
   "metadata": {
    "heading_collapsed": true
   },
   "source": [
    "# Data Type"
   ]
  },
  {
   "cell_type": "code",
   "execution_count": null,
   "id": "50b269b1",
   "metadata": {
    "hidden": true
   },
   "outputs": [],
   "source": [
    "\n",
    "x = [1, 2, 3, 4]\n",
    "type(x)"
   ]
  },
  {
   "cell_type": "code",
   "execution_count": 5,
   "id": "d5db8967",
   "metadata": {
    "hidden": true
   },
   "outputs": [
    {
     "data": {
      "text/plain": [
       "set"
      ]
     },
     "execution_count": 5,
     "metadata": {},
     "output_type": "execute_result"
    }
   ],
   "source": [
    "y = {1, 2, 3, 4}\n",
    "type(y)"
   ]
  },
  {
   "cell_type": "code",
   "execution_count": 4,
   "id": "704d6167",
   "metadata": {
    "collapsed": true,
    "hidden": true
   },
   "outputs": [
    {
     "data": {
      "text/plain": [
       "tuple"
      ]
     },
     "execution_count": 4,
     "metadata": {},
     "output_type": "execute_result"
    }
   ],
   "source": [
    "z = (1,2,3,4)\n",
    "type(z)"
   ]
  },
  {
   "cell_type": "code",
   "execution_count": 6,
   "id": "86094a9f",
   "metadata": {
    "collapsed": true,
    "hidden": true
   },
   "outputs": [
    {
     "name": "stdout",
     "output_type": "stream",
     "text": [
      "1\n",
      "2\n",
      "3\n",
      "4\n"
     ]
    }
   ],
   "source": [
    "i = 0\n",
    "while(i != len(x)):\n",
    "    print(x[i])\n",
    "    i+=1"
   ]
  },
  {
   "cell_type": "code",
   "execution_count": 7,
   "id": "2f1985dc",
   "metadata": {
    "collapsed": true,
    "hidden": true
   },
   "outputs": [
    {
     "name": "stdout",
     "output_type": "stream",
     "text": [
      "[1, 2, 3, 9, 8, 7]\n"
     ]
    }
   ],
   "source": [
    "a = [1,2,3]\n",
    "b = [9,8,7]\n",
    "print(a+b)"
   ]
  },
  {
   "cell_type": "code",
   "execution_count": 2,
   "id": "7d53b5e2",
   "metadata": {
    "hidden": true
   },
   "outputs": [
    {
     "name": "stdout",
     "output_type": "stream",
     "text": [
      "(1, 2, 3, 9, 8, 7)\n"
     ]
    }
   ],
   "source": [
    "q = (1,2,3)\n",
    "w = (9,8,7)\n",
    "print(q+w)"
   ]
  },
  {
   "cell_type": "code",
   "execution_count": 3,
   "id": "c6bc7510",
   "metadata": {
    "collapsed": true,
    "hidden": true
   },
   "outputs": [
    {
     "ename": "TypeError",
     "evalue": "unsupported operand type(s) for +: 'set' and 'set'",
     "output_type": "error",
     "traceback": [
      "\u001b[1;31m---------------------------------------------------------------------------\u001b[0m",
      "\u001b[1;31mTypeError\u001b[0m                                 Traceback (most recent call last)",
      "\u001b[1;32m~\\AppData\\Local\\Temp/ipykernel_7016/3636520912.py\u001b[0m in \u001b[0;36m<module>\u001b[1;34m\u001b[0m\n\u001b[0;32m      1\u001b[0m \u001b[0mm\u001b[0m \u001b[1;33m=\u001b[0m \u001b[1;33m{\u001b[0m\u001b[1;36m1\u001b[0m\u001b[1;33m,\u001b[0m\u001b[1;36m2\u001b[0m\u001b[1;33m,\u001b[0m\u001b[1;36m3\u001b[0m\u001b[1;33m,\u001b[0m\u001b[1;36m4\u001b[0m\u001b[1;33m}\u001b[0m\u001b[1;33m\u001b[0m\u001b[1;33m\u001b[0m\u001b[0m\n\u001b[0;32m      2\u001b[0m \u001b[0mn\u001b[0m \u001b[1;33m=\u001b[0m \u001b[1;33m{\u001b[0m\u001b[1;36m7\u001b[0m\u001b[1;33m,\u001b[0m\u001b[1;36m8\u001b[0m\u001b[1;33m,\u001b[0m\u001b[1;36m9\u001b[0m\u001b[1;33m}\u001b[0m\u001b[1;33m\u001b[0m\u001b[1;33m\u001b[0m\u001b[0m\n\u001b[1;32m----> 3\u001b[1;33m \u001b[0mprint\u001b[0m\u001b[1;33m(\u001b[0m\u001b[0mm\u001b[0m\u001b[1;33m+\u001b[0m\u001b[0mn\u001b[0m\u001b[1;33m)\u001b[0m\u001b[1;33m\u001b[0m\u001b[1;33m\u001b[0m\u001b[0m\n\u001b[0m",
      "\u001b[1;31mTypeError\u001b[0m: unsupported operand type(s) for +: 'set' and 'set'"
     ]
    }
   ],
   "source": [
    "m = {1,2,3,4}\n",
    "n = {7,8,9}\n",
    "print(m+n)"
   ]
  },
  {
   "cell_type": "markdown",
   "id": "e79ccc4b",
   "metadata": {
    "heading_collapsed": true
   },
   "source": [
    "# String Slicing\n"
   ]
  },
  {
   "cell_type": "code",
   "execution_count": 67,
   "id": "5f707720",
   "metadata": {
    "hidden": true
   },
   "outputs": [
    {
     "name": "stdout",
     "output_type": "stream",
     "text": [
      "T\n",
      "T\n",
      "Th\n",
      "This\n",
      "is a string\n",
      "g\n",
      "ri\n"
     ]
    }
   ],
   "source": [
    "x = 'This is a string'\n",
    "print(x[0])\n",
    "print(x[0:1])\n",
    "print(x[0:2])\n",
    "print(x[:4])\n",
    "print(x[5:])\n",
    "print(x[-1])\n",
    "print(x[-4:-2])"
   ]
  },
  {
   "cell_type": "code",
   "execution_count": 51,
   "id": "dae2585b",
   "metadata": {
    "hidden": true
   },
   "outputs": [
    {
     "name": "stdout",
     "output_type": "stream",
     "text": [
      "Hello World\n",
      "True\n"
     ]
    }
   ],
   "source": [
    "firstName = \"Hello\"\n",
    "lastName = \"World\"\n",
    "print(firstName + \" \" + lastName)\n",
    "print(\"Hello\" in firstName)"
   ]
  },
  {
   "cell_type": "code",
   "execution_count": 92,
   "id": "948a2408",
   "metadata": {
    "hidden": true
   },
   "outputs": [
    {
     "name": "stdout",
     "output_type": "stream",
     "text": [
      "abubakkar sajib\n"
     ]
    }
   ],
   "source": [
    "x = 'abubakkar siddik sajib'\n",
    "\n",
    "a = x.split(' ')[0]\n",
    "b = x.split(' ')[-1]\n",
    "\n",
    "print(a+' '+b)\n"
   ]
  },
  {
   "cell_type": "code",
   "execution_count": 12,
   "id": "2180b366",
   "metadata": {
    "hidden": true
   },
   "outputs": [
    {
     "data": {
      "text/plain": [
       "['Dr. Brooks', 'Dr. Collins-Thompson', 'Dr. Vydiswaran', 'Dr. Romero']"
      ]
     },
     "execution_count": 12,
     "metadata": {},
     "output_type": "execute_result"
    }
   ],
   "source": [
    "#Write a function and apply it using map() to get a list of all faculty titles and last names (e.g. ['Dr. Brooks', 'Dr. Collins-Thompson', …]) ?\n",
    "people = ['Dr. Christopher Brooks', 'Dr. Kevyn Collins-Thompson', 'Dr. VG Vinod Vydiswaran', 'Dr. Daniel Romero']\n",
    "\n",
    "def split_title_and_name(person):\n",
    "    title = person.split()[0]\n",
    "    last_name = person.split()[-1]\n",
    "    name = '{} {}'.format(title,last_name)\n",
    "    return name\n",
    "\n",
    "#list(map(split_title_and_name, people))\n",
    "list(map(lambda person: person.split()[0] + ' ' + person.split()[-1], people)) #lambda"
   ]
  },
  {
   "cell_type": "markdown",
   "id": "883522d1",
   "metadata": {
    "heading_collapsed": true
   },
   "source": [
    "# Dictonary"
   ]
  },
  {
   "cell_type": "code",
   "execution_count": 6,
   "id": "11897575",
   "metadata": {
    "hidden": true
   },
   "outputs": [
    {
     "name": "stdout",
     "output_type": "stream",
     "text": [
      "sajib@gmail.com\n"
     ]
    }
   ],
   "source": [
    "x = {'name':'sajib','email':'sajib@gmail.com','age':23}\n",
    "print(x['email'])"
   ]
  },
  {
   "cell_type": "code",
   "execution_count": 7,
   "id": "0d6093b8",
   "metadata": {
    "hidden": true
   },
   "outputs": [
    {
     "name": "stdout",
     "output_type": "stream",
     "text": [
      "name\n",
      "email\n",
      "age\n",
      "\n",
      "sajib\n",
      "sajib@gmail.com\n",
      "23\n",
      "\n",
      "name sajib\n",
      "email sajib@gmail.com\n",
      "age 23\n"
     ]
    }
   ],
   "source": [
    "for i in x: #print the key\n",
    "    print(i)\n",
    "    \n",
    "print(\"\")\n",
    "    \n",
    "for value in x.values(): # print the value\n",
    "    print(value)\n",
    "    \n",
    "print(\"\")\n",
    "    \n",
    "for key,value in x.items(): # print the key value pair\n",
    "    print(key,value)"
   ]
  },
  {
   "cell_type": "code",
   "execution_count": 12,
   "id": "cd0f9e96",
   "metadata": {
    "hidden": true
   },
   "outputs": [
    {
     "name": "stdout",
     "output_type": "stream",
     "text": [
      "{'k1': {'innerKey': [1, 2, 3, 4]}}\n"
     ]
    }
   ],
   "source": [
    "#Nested Dictionary\n",
    "d = {'k1': {'innerKey':[1,2,3,4]}}\n",
    "print(d)"
   ]
  },
  {
   "cell_type": "code",
   "execution_count": 13,
   "id": "38ca0791",
   "metadata": {
    "hidden": true
   },
   "outputs": [
    {
     "data": {
      "text/plain": [
       "{'innerKey': [1, 2, 3, 4]}"
      ]
     },
     "execution_count": 13,
     "metadata": {},
     "output_type": "execute_result"
    }
   ],
   "source": [
    "d['k1']"
   ]
  },
  {
   "cell_type": "code",
   "execution_count": 16,
   "id": "f93e7fb2",
   "metadata": {
    "hidden": true
   },
   "outputs": [
    {
     "data": {
      "text/plain": [
       "[1, 2, 3, 4]"
      ]
     },
     "execution_count": 16,
     "metadata": {},
     "output_type": "execute_result"
    }
   ],
   "source": [
    "d['k1']['innerKey']"
   ]
  },
  {
   "cell_type": "code",
   "execution_count": 17,
   "id": "b35d219c",
   "metadata": {
    "hidden": true
   },
   "outputs": [
    {
     "data": {
      "text/plain": [
       "2"
      ]
     },
     "execution_count": 17,
     "metadata": {},
     "output_type": "execute_result"
    }
   ],
   "source": [
    "d['k1']['innerKey'][1]"
   ]
  },
  {
   "cell_type": "code",
   "execution_count": null,
   "id": "8df636bd",
   "metadata": {
    "hidden": true
   },
   "outputs": [],
   "source": []
  },
  {
   "cell_type": "markdown",
   "id": "b5bfca4e",
   "metadata": {
    "code_folding": [],
    "heading_collapsed": true
   },
   "source": [
    "# Tuples Unpacking"
   ]
  },
  {
   "cell_type": "code",
   "execution_count": 39,
   "id": "81ce320b",
   "metadata": {
    "hidden": true
   },
   "outputs": [
    {
     "name": "stdout",
     "output_type": "stream",
     "text": [
      "sajib\n",
      "sajib@gmail.com\n",
      "23\n"
     ]
    }
   ],
   "source": [
    "x = ('sajib','sajib@gmail.com',23)\n",
    "name, emai, age = x\n",
    "\n",
    "print(name)\n",
    "print(emai)\n",
    "print(age)"
   ]
  },
  {
   "cell_type": "code",
   "execution_count": 41,
   "id": "09fe0ad8",
   "metadata": {
    "hidden": true
   },
   "outputs": [
    {
     "ename": "ValueError",
     "evalue": "not enough values to unpack (expected 4, got 3)",
     "output_type": "error",
     "traceback": [
      "\u001b[1;31m---------------------------------------------------------------------------\u001b[0m",
      "\u001b[1;31mValueError\u001b[0m                                Traceback (most recent call last)",
      "\u001b[1;32m~\\AppData\\Local\\Temp/ipykernel_17340/2718773790.py\u001b[0m in \u001b[0;36m<module>\u001b[1;34m\u001b[0m\n\u001b[0;32m      1\u001b[0m \u001b[0mx\u001b[0m \u001b[1;33m=\u001b[0m \u001b[1;33m(\u001b[0m\u001b[1;34m'sajib'\u001b[0m\u001b[1;33m,\u001b[0m\u001b[1;34m'sajib@gmail.com'\u001b[0m\u001b[1;33m,\u001b[0m\u001b[1;36m23\u001b[0m\u001b[1;33m)\u001b[0m\u001b[1;33m\u001b[0m\u001b[1;33m\u001b[0m\u001b[0m\n\u001b[1;32m----> 2\u001b[1;33m \u001b[0mname\u001b[0m\u001b[1;33m,\u001b[0m \u001b[0memai\u001b[0m\u001b[1;33m,\u001b[0m \u001b[0mage\u001b[0m\u001b[1;33m,\u001b[0m \u001b[0msalary\u001b[0m \u001b[1;33m=\u001b[0m \u001b[0mx\u001b[0m \u001b[1;31m# can't use excessive key than values\u001b[0m\u001b[1;33m\u001b[0m\u001b[1;33m\u001b[0m\u001b[0m\n\u001b[0m",
      "\u001b[1;31mValueError\u001b[0m: not enough values to unpack (expected 4, got 3)"
     ]
    }
   ],
   "source": [
    "x = ('sajib','sajib@gmail.com',23) \n",
    "name, emai, age, salary = x # can't use excessive key than values\n"
   ]
  },
  {
   "cell_type": "code",
   "execution_count": 42,
   "id": "b75cc9d7",
   "metadata": {
    "hidden": true
   },
   "outputs": [],
   "source": [
    "a = [(4,5),(3,2),(8,7)]"
   ]
  },
  {
   "cell_type": "code",
   "execution_count": 48,
   "id": "60ec4cc6",
   "metadata": {
    "hidden": true
   },
   "outputs": [
    {
     "name": "stdout",
     "output_type": "stream",
     "text": [
      "4\n",
      "5\n",
      "3\n",
      "2\n",
      "8\n",
      "7\n"
     ]
    }
   ],
   "source": [
    "for (i,j) in a:\n",
    "    print(i)\n",
    "    print(j)"
   ]
  },
  {
   "cell_type": "code",
   "execution_count": null,
   "id": "7b24d0dc",
   "metadata": {
    "hidden": true
   },
   "outputs": [],
   "source": []
  },
  {
   "cell_type": "markdown",
   "id": "139c8711",
   "metadata": {
    "heading_collapsed": true
   },
   "source": [
    "# String"
   ]
  },
  {
   "cell_type": "code",
   "execution_count": 1,
   "id": "f9c007d3",
   "metadata": {
    "code_folding": [],
    "hidden": true
   },
   "outputs": [
    {
     "name": "stdout",
     "output_type": "stream",
     "text": [
      "sajib bought 5 at a price of 25 each for a total of 125\n"
     ]
    }
   ],
   "source": [
    "sales_record = {'price': 25,\n",
    "               'item_no': 5,\n",
    "               'person':'sajib'}\n",
    "\n",
    "sales_statement = '{} bought {} at a price of {} each for a total of {}'\n",
    "print(sales_statement.format(sales_record['person'],\n",
    "                             sales_record['item_no'],\n",
    "                             sales_record['price'],\n",
    "                             sales_record['item_no'] * sales_record['price']))\n"
   ]
  },
  {
   "cell_type": "markdown",
   "id": "d071a3bb",
   "metadata": {
    "heading_collapsed": true
   },
   "source": [
    "# CSV file read & write "
   ]
  },
  {
   "cell_type": "code",
   "execution_count": 19,
   "id": "a6eddd83",
   "metadata": {
    "code_folding": [],
    "collapsed": true,
    "hidden": true
   },
   "outputs": [
    {
     "data": {
      "text/plain": [
       "[{'': '1',\n",
       "  'manufacturer': 'audi',\n",
       "  'model': 'a4',\n",
       "  'displ': '1.8',\n",
       "  'year': '1999',\n",
       "  'cyl': '4',\n",
       "  'trans': 'auto(l5)',\n",
       "  'drv': 'f',\n",
       "  'cty': '18',\n",
       "  'hwy': '29',\n",
       "  'fl': 'p',\n",
       "  'class': 'compact'},\n",
       " {'': '2',\n",
       "  'manufacturer': 'audi',\n",
       "  'model': 'a4',\n",
       "  'displ': '1.8',\n",
       "  'year': '1999',\n",
       "  'cyl': '4',\n",
       "  'trans': 'manual(m5)',\n",
       "  'drv': 'f',\n",
       "  'cty': '21',\n",
       "  'hwy': '29',\n",
       "  'fl': 'p',\n",
       "  'class': 'compact'}]"
      ]
     },
     "execution_count": 19,
     "metadata": {},
     "output_type": "execute_result"
    }
   ],
   "source": [
    "import csv\n",
    "#%precision 2\n",
    "\n",
    "with open ('mpg.csv') as csvfile:\n",
    "    mpg = list(csv.DictReader(csvfile))\n",
    "    \n",
    "mpg[:2]"
   ]
  },
  {
   "cell_type": "code",
   "execution_count": 2,
   "id": "95e9da8b",
   "metadata": {
    "hidden": true
   },
   "outputs": [
    {
     "data": {
      "text/plain": [
       "234"
      ]
     },
     "execution_count": 2,
     "metadata": {},
     "output_type": "execute_result"
    }
   ],
   "source": [
    "len(mpg)"
   ]
  },
  {
   "cell_type": "code",
   "execution_count": 3,
   "id": "2ce6d6b8",
   "metadata": {
    "collapsed": true,
    "hidden": true
   },
   "outputs": [
    {
     "data": {
      "text/plain": [
       "dict_keys(['', 'manufacturer', 'model', 'displ', 'year', 'cyl', 'trans', 'drv', 'cty', 'hwy', 'fl', 'class'])"
      ]
     },
     "execution_count": 3,
     "metadata": {},
     "output_type": "execute_result"
    }
   ],
   "source": [
    "mpg[0].keys() #all columns names"
   ]
  },
  {
   "cell_type": "code",
   "execution_count": 21,
   "id": "8cc98773",
   "metadata": {
    "hidden": true
   },
   "outputs": [
    {
     "name": "stdout",
     "output_type": "stream",
     "text": [
      "16.858974358974358\n"
     ]
    }
   ],
   "source": [
    "avg_ciity = sum(float(d['cty']) for d in mpg) / len(mpg)\n",
    "print(avg_ciity)"
   ]
  },
  {
   "cell_type": "code",
   "execution_count": 24,
   "id": "e968e01d",
   "metadata": {
    "hidden": true
   },
   "outputs": [
    {
     "name": "stdout",
     "output_type": "stream",
     "text": [
      "{1, 2, 3, 4, 5, 6, 9, 11, 23}\n"
     ]
    }
   ],
   "source": [
    "x = (1,1,2,3,4,5,6,5,1,9,11,23,11)\n",
    "y = set(x) # all the unique values in the list\n",
    "print(y) "
   ]
  },
  {
   "cell_type": "code",
   "execution_count": 32,
   "id": "6249bde0",
   "metadata": {
    "hidden": true
   },
   "outputs": [
    {
     "name": "stdout",
     "output_type": "stream",
     "text": [
      "{'minivan', 'suv', 'midsize', 'subcompact', 'compact', 'pickup', '2seater'}\n"
     ]
    }
   ],
   "source": [
    "vClass = set(c['class'] for c in mpg)\n",
    "print(vClass)\n"
   ]
  },
  {
   "cell_type": "markdown",
   "id": "60d149be",
   "metadata": {
    "heading_collapsed": true
   },
   "source": [
    "# Dates & Times"
   ]
  },
  {
   "cell_type": "code",
   "execution_count": 15,
   "id": "fa37e1a4",
   "metadata": {
    "hidden": true
   },
   "outputs": [],
   "source": [
    "import datetime as dt\n",
    "import time as tm"
   ]
  },
  {
   "cell_type": "code",
   "execution_count": 16,
   "id": "e30b9a35",
   "metadata": {
    "hidden": true
   },
   "outputs": [
    {
     "name": "stdout",
     "output_type": "stream",
     "text": [
      "1635326208.1400416\n"
     ]
    }
   ],
   "source": [
    "tm.time()\n",
    "mTime = tm.time()\n",
    "print(mTime)\n"
   ]
  },
  {
   "cell_type": "code",
   "execution_count": 17,
   "id": "04cdd284",
   "metadata": {
    "hidden": true
   },
   "outputs": [
    {
     "name": "stdout",
     "output_type": "stream",
     "text": [
      "2021-10-27 15:16:48.821957\n"
     ]
    },
    {
     "data": {
      "text/plain": [
       "datetime.datetime(2021, 10, 27, 15, 16, 48, 821957)"
      ]
     },
     "execution_count": 17,
     "metadata": {},
     "output_type": "execute_result"
    }
   ],
   "source": [
    "dtNow = dt.datetime.fromtimestamp(tm.time())\n",
    "print(dtNow)\n",
    "dtNow"
   ]
  },
  {
   "cell_type": "code",
   "execution_count": 18,
   "id": "93c8fed4",
   "metadata": {
    "hidden": true
   },
   "outputs": [
    {
     "data": {
      "text/plain": [
       "(2021, 10, 27, 15, 16, 48)"
      ]
     },
     "execution_count": 18,
     "metadata": {},
     "output_type": "execute_result"
    }
   ],
   "source": [
    "dtNow.year, dtNow.month, dtNow.day, dtNow.hour, dtNow.minute, dtNow.second"
   ]
  },
  {
   "cell_type": "code",
   "execution_count": 19,
   "id": "d8c47489",
   "metadata": {
    "hidden": true
   },
   "outputs": [
    {
     "name": "stdout",
     "output_type": "stream",
     "text": [
      "60 days, 0:00:00\n"
     ]
    }
   ],
   "source": [
    "delta = dt.timedelta(days = 60)\n",
    "print(delta)"
   ]
  },
  {
   "cell_type": "code",
   "execution_count": 20,
   "id": "6763ce3d",
   "metadata": {
    "hidden": true
   },
   "outputs": [
    {
     "name": "stdout",
     "output_type": "stream",
     "text": [
      "2021-10-27\n"
     ]
    }
   ],
   "source": [
    "today = dt.date.today()\n",
    "print(today)"
   ]
  },
  {
   "cell_type": "code",
   "execution_count": 21,
   "id": "ffd09382",
   "metadata": {
    "hidden": true
   },
   "outputs": [
    {
     "name": "stdout",
     "output_type": "stream",
     "text": [
      "2021-08-28\n"
     ]
    }
   ],
   "source": [
    "x = today - delta\n",
    "print(x)"
   ]
  },
  {
   "cell_type": "code",
   "execution_count": 22,
   "id": "bc77103e",
   "metadata": {
    "hidden": true
   },
   "outputs": [
    {
     "data": {
      "text/plain": [
       "True"
      ]
     },
     "execution_count": 22,
     "metadata": {},
     "output_type": "execute_result"
    }
   ],
   "source": [
    "today > x"
   ]
  },
  {
   "cell_type": "markdown",
   "id": "d4edaf61",
   "metadata": {
    "heading_collapsed": true
   },
   "source": [
    "# Filter"
   ]
  },
  {
   "cell_type": "code",
   "execution_count": 26,
   "id": "cbade6df",
   "metadata": {
    "hidden": true
   },
   "outputs": [
    {
     "data": {
      "text/plain": [
       "[2, 4, 6, 14]"
      ]
     },
     "execution_count": 26,
     "metadata": {},
     "output_type": "execute_result"
    }
   ],
   "source": [
    "seq =[1,2,3,4,5,6,7,14]\n",
    "list(filter(lambda num: num%2 == 0, seq))"
   ]
  },
  {
   "cell_type": "code",
   "execution_count": null,
   "id": "19b44f28",
   "metadata": {
    "hidden": true
   },
   "outputs": [],
   "source": []
  },
  {
   "cell_type": "code",
   "execution_count": null,
   "id": "0331b578",
   "metadata": {
    "hidden": true
   },
   "outputs": [],
   "source": []
  },
  {
   "cell_type": "markdown",
   "id": "f51537b7",
   "metadata": {
    "heading_collapsed": true
   },
   "source": [
    "# Objects and map()"
   ]
  },
  {
   "cell_type": "code",
   "execution_count": 1,
   "id": "3255c1ce",
   "metadata": {
    "hidden": true
   },
   "outputs": [],
   "source": [
    "class Person:\n",
    "    department = \"CSE\"\n",
    "    \n",
    "    def set_name(self, new_name):\n",
    "        self.name = new_name\n",
    "    def set_location(self, new_location):\n",
    "        self.location = new_location"
   ]
  },
  {
   "cell_type": "code",
   "execution_count": 2,
   "id": "62c218d3",
   "metadata": {
    "hidden": true
   },
   "outputs": [
    {
     "name": "stdout",
     "output_type": "stream",
     "text": [
      "sajib live in Dhaka and studied in CSE\n"
     ]
    }
   ],
   "source": [
    "person = Person()\n",
    "person.set_name('Sajib')\n",
    "person.set_location('Dhaka')\n",
    "print('{} live in {} and studied in {}'.format(person.name, person.location, person.department))"
   ]
  },
  {
   "cell_type": "code",
   "execution_count": 4,
   "id": "758fc98f",
   "metadata": {
    "hidden": true
   },
   "outputs": [
    {
     "name": "stdout",
     "output_type": "stream",
     "text": [
      "[2, 4, 6, 8]\n"
     ]
    }
   ],
   "source": [
    "# map()\n",
    "\n",
    "def add(n): # Return double of n\n",
    "    return n + n\n",
    "\n",
    "num = (1,2,3,4)\n",
    "result = map(add, num)\n",
    "print(list(result))"
   ]
  },
  {
   "cell_type": "markdown",
   "id": "babb8436",
   "metadata": {
    "heading_collapsed": true
   },
   "source": [
    "# Lamda function\n"
   ]
  },
  {
   "cell_type": "code",
   "execution_count": 6,
   "id": "9fd33a94",
   "metadata": {
    "hidden": true
   },
   "outputs": [],
   "source": [
    "my_function = lambda a, b, c : a + b + c"
   ]
  },
  {
   "cell_type": "code",
   "execution_count": 7,
   "id": "672a3fa6",
   "metadata": {
    "hidden": true
   },
   "outputs": [
    {
     "data": {
      "text/plain": [
       "6"
      ]
     },
     "execution_count": 7,
     "metadata": {},
     "output_type": "execute_result"
    }
   ],
   "source": [
    "my_function(1,2,3)\n"
   ]
  },
  {
   "cell_type": "code",
   "execution_count": 3,
   "id": "9d05b994",
   "metadata": {
    "hidden": true
   },
   "outputs": [
    {
     "data": {
      "text/plain": [
       "['Dr. Brooks', 'Dr. Collins-Thompson', 'Dr. Vydiswaran', 'Dr. Romero']"
      ]
     },
     "execution_count": 3,
     "metadata": {},
     "output_type": "execute_result"
    }
   ],
   "source": [
    "#Write a function and apply it using map() to get a list of all faculty titles and last names (e.g. ['Dr. Brooks', 'Dr. Collins-Thompson', …]) ?\n",
    "people = ['Dr. Christopher Brooks', 'Dr. Kevyn Collins-Thompson', 'Dr. VG Vinod Vydiswaran', 'Dr. Daniel Romero']\n",
    "\n",
    "def split_title_and_name(person):\n",
    "    title = person.split()[0]\n",
    "    last_name = person.split()[-1]\n",
    "    name = '{} {}'.format(title,last_name)\n",
    "    return name\n",
    "\n",
    "#list(map(split_title_and_name, people))\n",
    "list(map(lambda person: person.split()[0] + ' ' + person.split()[-1], people)) #lambda"
   ]
  },
  {
   "cell_type": "code",
   "execution_count": 7,
   "id": "42a42c46",
   "metadata": {
    "hidden": true
   },
   "outputs": [],
   "source": [
    "seq = [1,2,3,4,5]"
   ]
  },
  {
   "cell_type": "code",
   "execution_count": 10,
   "id": "56d536ff",
   "metadata": {
    "hidden": true
   },
   "outputs": [
    {
     "data": {
      "text/plain": [
       "[2, 4, 6, 8, 10]"
      ]
     },
     "execution_count": 10,
     "metadata": {},
     "output_type": "execute_result"
    }
   ],
   "source": [
    "list(map(lambda num: num*2, seq))"
   ]
  },
  {
   "cell_type": "code",
   "execution_count": null,
   "id": "bfd49da6",
   "metadata": {
    "hidden": true
   },
   "outputs": [],
   "source": [
    "    "
   ]
  },
  {
   "cell_type": "markdown",
   "id": "47ec35e1",
   "metadata": {
    "heading_collapsed": true
   },
   "source": [
    "# List Comprehensions"
   ]
  },
  {
   "cell_type": "code",
   "execution_count": 17,
   "id": "4d131c6f",
   "metadata": {
    "hidden": true
   },
   "outputs": [
    {
     "name": "stdout",
     "output_type": "stream",
     "text": [
      "[0, 2, 4, 6, 8, 10, 12, 14, 16, 18]\n"
     ]
    }
   ],
   "source": [
    "my_list = [ ]\n",
    "for num in range(0,20):\n",
    "    if num % 2 == 0:\n",
    "        my_list.append(num)\n",
    "\n",
    "print(my_list)"
   ]
  },
  {
   "cell_type": "code",
   "execution_count": 18,
   "id": "75117ea3",
   "metadata": {
    "hidden": true
   },
   "outputs": [
    {
     "name": "stdout",
     "output_type": "stream",
     "text": [
      "[0, 2, 4, 6, 8, 10, 12, 14, 16, 18]\n"
     ]
    }
   ],
   "source": [
    "# using list comprehension\n",
    "my_list = [num for num in range(0,20) if num % 2 == 0]\n",
    "print(my_list)"
   ]
  },
  {
   "cell_type": "code",
   "execution_count": 19,
   "id": "6880c823",
   "metadata": {
    "hidden": true
   },
   "outputs": [
    {
     "data": {
      "text/plain": [
       "True"
      ]
     },
     "execution_count": 19,
     "metadata": {},
     "output_type": "execute_result"
    }
   ],
   "source": [
    "def times_tables():\n",
    "    lst = []\n",
    "    for i in range(10):\n",
    "        for j in range (10):\n",
    "            lst.append(i*j)\n",
    "    return lst\n",
    "\n",
    "times_tables() == [j*i for i in range(10) for j in range(10)]"
   ]
  },
  {
   "cell_type": "code",
   "execution_count": 3,
   "id": "db2e83be",
   "metadata": {
    "hidden": true,
    "scrolled": false
   },
   "outputs": [
    {
     "name": "stdout",
     "output_type": "stream",
     "text": [
      "['aa00', 'aa01', 'aa02', 'aa03', 'aa04']\n"
     ]
    }
   ],
   "source": [
    "# list all possible id using all two letters followed by two numbers (e.g. aa49).\n",
    "letter = 'abcdefghijklmnopqrstuvwxyz'\n",
    "digits = '0123456789'\n",
    "\n",
    "#using for loops\n",
    "\"\"\"\n",
    "for i in letter:\n",
    "    for j in digits:\n",
    "        for k in letter:\n",
    "            for l in digits:\n",
    "                print(i+k+j+l)\n",
    "\"\"\"\n",
    "#using list comprehension\n",
    "\n",
    "ids = [i+j+k+l for i in letter for j in letter for k in digits for l in digits]\n",
    "print(ids[:5]) # print first 5 items of the list   "
   ]
  },
  {
   "cell_type": "code",
   "execution_count": null,
   "id": "d39715fe",
   "metadata": {
    "hidden": true
   },
   "outputs": [],
   "source": []
  },
  {
   "cell_type": "markdown",
   "id": "572f23ad",
   "metadata": {
    "heading_collapsed": true
   },
   "source": [
    "# Experiments"
   ]
  },
  {
   "cell_type": "code",
   "execution_count": 28,
   "id": "4c70c90e",
   "metadata": {
    "hidden": true
   },
   "outputs": [
    {
     "name": "stdout",
     "output_type": "stream",
     "text": [
      "{1, 2, 3, 4, 5, 6, 7, 8, 9, 12, 13, 14}\n"
     ]
    }
   ],
   "source": [
    "#convert a list into a sets\n",
    "my_list = [1,2,3,4,4,4,2,2,1,6,7,8,8,9,5,1,14,13,12]\n",
    "my_sets = set(my_list)\n",
    "print(my_sets)"
   ]
  },
  {
   "cell_type": "code",
   "execution_count": 1,
   "id": "87ee3f64",
   "metadata": {
    "hidden": true
   },
   "outputs": [
    {
     "name": "stdout",
     "output_type": "stream",
     "text": [
      "i is 1\n",
      "i is 2\n",
      "i is 3\n",
      "i is 4\n"
     ]
    }
   ],
   "source": [
    "i = 1\n",
    "\n",
    "while i < 5:\n",
    "    print('i is {}'.format(i))\n",
    "    i += 1"
   ]
  },
  {
   "cell_type": "code",
   "execution_count": 2,
   "id": "01a772b4",
   "metadata": {
    "hidden": true
   },
   "outputs": [
    {
     "data": {
      "text/plain": [
       "[1, 2, 3, 4, 5]"
      ]
     },
     "execution_count": 2,
     "metadata": {},
     "output_type": "execute_result"
    }
   ],
   "source": [
    "list(range(1,6))"
   ]
  },
  {
   "cell_type": "code",
   "execution_count": null,
   "id": "0143ab7d",
   "metadata": {
    "hidden": true
   },
   "outputs": [],
   "source": [
    "range # prss shift+Tab on the function name to see the functions descriptions"
   ]
  },
  {
   "cell_type": "code",
   "execution_count": 35,
   "id": "544b98a1",
   "metadata": {
    "hidden": true
   },
   "outputs": [
    {
     "data": {
      "text/plain": [
       "3"
      ]
     },
     "execution_count": 35,
     "metadata": {},
     "output_type": "execute_result"
    }
   ],
   "source": [
    "x = [1,2,3,4]\n",
    "y = x.pop(0) # pop out the first item\n",
    "x"
   ]
  },
  {
   "cell_type": "code",
   "execution_count": 36,
   "id": "8e65f3b7",
   "metadata": {
    "hidden": true
   },
   "outputs": [
    {
     "data": {
      "text/plain": [
       "False"
      ]
     },
     "execution_count": 36,
     "metadata": {},
     "output_type": "execute_result"
    }
   ],
   "source": [
    "'x' in [1,2,3]"
   ]
  },
  {
   "cell_type": "code",
   "execution_count": 37,
   "id": "15c821fe",
   "metadata": {
    "hidden": true
   },
   "outputs": [
    {
     "data": {
      "text/plain": [
       "True"
      ]
     },
     "execution_count": 37,
     "metadata": {},
     "output_type": "execute_result"
    }
   ],
   "source": [
    "'x' in ['x','y','z']"
   ]
  },
  {
   "cell_type": "code",
   "execution_count": null,
   "id": "5de65b9b",
   "metadata": {
    "hidden": true
   },
   "outputs": [],
   "source": []
  },
  {
   "cell_type": "markdown",
   "id": "9192c5dd",
   "metadata": {},
   "source": [
    "# Exercise 1.0"
   ]
  },
  {
   "cell_type": "code",
   "execution_count": 1,
   "id": "9c4233bd",
   "metadata": {
    "code_folding": []
   },
   "outputs": [],
   "source": [
    "# What is 7 to the power of 4?\n",
    "#output: 2401"
   ]
  },
  {
   "cell_type": "code",
   "execution_count": 2,
   "id": "84a23448",
   "metadata": {},
   "outputs": [
    {
     "data": {
      "text/plain": [
       "2401"
      ]
     },
     "execution_count": 2,
     "metadata": {},
     "output_type": "execute_result"
    }
   ],
   "source": [
    "7**4"
   ]
  },
  {
   "cell_type": "code",
   "execution_count": 3,
   "id": "e529c01e",
   "metadata": {
    "code_folding": []
   },
   "outputs": [],
   "source": [
    "\"\"\"\n",
    "Split this string:\n",
    "s = \"Hi there Sam!\"\n",
    "into a list. \n",
    "output: ['Hi', 'there', 'dad!']\n",
    "\"\"\""
   ]
  },
  {
   "cell_type": "code",
   "execution_count": 27,
   "id": "e4a48c76",
   "metadata": {},
   "outputs": [
    {
     "name": "stdout",
     "output_type": "stream",
     "text": [
      "['Hi', 'there', 'dad!']\n"
     ]
    }
   ],
   "source": [
    "s = \"Hi there Sam!\"\n",
    "\n",
    "my_list = [i for i in s.split()]\n",
    "my_list[2]= \"dad!\"\n",
    "\n",
    "print(my_list)"
   ]
  },
  {
   "cell_type": "code",
   "execution_count": 29,
   "id": "bdcc5698",
   "metadata": {
    "collapsed": true
   },
   "outputs": [
    {
     "data": {
      "text/plain": [
       "'\\nGiven the variables:\\n\\nplanet = \"Earth\"\\ndiameter = 12742\\nUse .format() to print the following string: \\n\\nThe diameter of Earth is 12742 kilometers.\\n'"
      ]
     },
     "execution_count": 29,
     "metadata": {},
     "output_type": "execute_result"
    }
   ],
   "source": [
    "\"\"\"\n",
    "Given the variables:\n",
    "\n",
    "planet = \"Earth\"\n",
    "diameter = 12742\n",
    "Use .format() to print the following string: \n",
    "The diameter of Earth is 12742 kilometers.\n",
    "output: The diameter of Earth is 12742 kilometers.\n",
    "\"\"\""
   ]
  },
  {
   "cell_type": "code",
   "execution_count": 30,
   "id": "396b7fe8",
   "metadata": {},
   "outputs": [
    {
     "name": "stdout",
     "output_type": "stream",
     "text": [
      "The diameter of Earth is 12742 kilometers\n"
     ]
    }
   ],
   "source": [
    "planet = \"Earth\"\n",
    "diameter = 12742\n",
    "\n",
    "print(\"The diameter of {} is {} kilometers.\".format(planet, diameter))"
   ]
  },
  {
   "cell_type": "code",
   "execution_count": 31,
   "id": "846196c8",
   "metadata": {},
   "outputs": [],
   "source": [
    "#Given this nested list, use indexing to grab the word \"hello\"\n",
    "#lst = [1,2,[3,4],[5,[100,200,['hello']],23,11],1,7]"
   ]
  },
  {
   "cell_type": "code",
   "execution_count": 128,
   "id": "5831d7f1",
   "metadata": {},
   "outputs": [
    {
     "data": {
      "text/plain": [
       "'hello'"
      ]
     },
     "execution_count": 128,
     "metadata": {},
     "output_type": "execute_result"
    }
   ],
   "source": [
    "lst = [1,2,[3,4],[5,[100,200,['hello']],23,11],1,7]\n",
    "lst[3][1][2][0]"
   ]
  },
  {
   "cell_type": "code",
   "execution_count": null,
   "id": "c6e00f49",
   "metadata": {},
   "outputs": [],
   "source": [
    "#Given this nested dictionary grab the word \"hello\".\n",
    "#d = {'k1':[1,2,3,{'tricky':['oh','man','inception',{'target':[1,2,3,'hello']}]}]}"
   ]
  },
  {
   "cell_type": "code",
   "execution_count": 83,
   "id": "c09ec411",
   "metadata": {},
   "outputs": [
    {
     "data": {
      "text/plain": [
       "'hello'"
      ]
     },
     "execution_count": 83,
     "metadata": {},
     "output_type": "execute_result"
    }
   ],
   "source": [
    "d = {'k1':[1,2,3,{'tricky':['oh','man','inception',{'target':[1,2,3,'hello']}]}]}\n",
    "d['k1'][3]['tricky'][3]['target'][3]"
   ]
  },
  {
   "cell_type": "code",
   "execution_count": null,
   "id": "60a4c0a3",
   "metadata": {},
   "outputs": [],
   "source": [
    "\"\"\"\n",
    "Create a function that grabs the email website domain from a string in the form:\n",
    "user@domain.com\n",
    "So for example, passing \"user@domain.com\" would return: domain.com\n",
    "\"\"\""
   ]
  },
  {
   "cell_type": "code",
   "execution_count": 138,
   "id": "3cf03395",
   "metadata": {},
   "outputs": [
    {
     "data": {
      "text/plain": [
       "'domain.com'"
      ]
     },
     "execution_count": 138,
     "metadata": {},
     "output_type": "execute_result"
    }
   ],
   "source": [
    "def domainGet(email):\n",
    "    return email.split('@')[1]\n",
    "\n",
    "domainGet('user@domain.com')"
   ]
  },
  {
   "cell_type": "code",
   "execution_count": null,
   "id": "faf2a03a",
   "metadata": {},
   "outputs": [],
   "source": [
    "# Create a basic function that returns True if the word 'dog' is contained in the input string"
   ]
  },
  {
   "cell_type": "code",
   "execution_count": 147,
   "id": "18b5ab91",
   "metadata": {},
   "outputs": [
    {
     "data": {
      "text/plain": [
       "True"
      ]
     },
     "execution_count": 147,
     "metadata": {},
     "output_type": "execute_result"
    }
   ],
   "source": [
    "def findDog(s):\n",
    "    return 'dog' in s.lower().split():\n",
    "    \n",
    "findDog('This dog runs faster than the other dude!')"
   ]
  },
  {
   "cell_type": "code",
   "execution_count": null,
   "id": "d174d3c3",
   "metadata": {},
   "outputs": [],
   "source": [
    "#Create a function that counts the number of times the word \"dog\" occurs in a string. Again ignore edge cases. "
   ]
  },
  {
   "cell_type": "code",
   "execution_count": 103,
   "id": "c2a0262e",
   "metadata": {},
   "outputs": [
    {
     "name": "stdout",
     "output_type": "stream",
     "text": [
      "['This', 'dog', 'runs', 'faster', 'than', 'the', 'other', 'dog', 'dog', 'dude!']\n"
     ]
    },
    {
     "data": {
      "text/plain": [
       "3"
      ]
     },
     "execution_count": 103,
     "metadata": {},
     "output_type": "execute_result"
    }
   ],
   "source": [
    "def countDog(s):\n",
    "    count = 0\n",
    "    for word in s.lower().split():\n",
    "        if word == \"dog\":\n",
    "            count += 1\n",
    "    return(count)\n",
    "    \n",
    "countDog('This dog runs faster than the other dog dog dude!')\n",
    "        "
   ]
  },
  {
   "cell_type": "code",
   "execution_count": null,
   "id": "11875b5d",
   "metadata": {},
   "outputs": [],
   "source": [
    "\"\"\"\n",
    "** Use lambda expressions and the filter() function to filter out words from a list that don't start with the letter 's'. For example:**\n",
    "\n",
    "seq = ['soup','dog','salad','cat','great']\n",
    "should be filtered down to:\n",
    "\n",
    "['soup','salad']\n",
    "\"\"\""
   ]
  },
  {
   "cell_type": "code",
   "execution_count": 104,
   "id": "92c6eb01",
   "metadata": {},
   "outputs": [
    {
     "data": {
      "text/plain": [
       "['soup', 'salad']"
      ]
     },
     "execution_count": 104,
     "metadata": {},
     "output_type": "execute_result"
    }
   ],
   "source": [
    "seq = ['soup','dog','salad','cat','great']\n",
    "list(filter(lambda s: s[0] == 's', seq))"
   ]
  },
  {
   "cell_type": "code",
   "execution_count": null,
   "id": "6e1c85cb",
   "metadata": {},
   "outputs": [],
   "source": [
    "\"\"\"\n",
    "You are driving a little too fast, and a police officer stops you. \n",
    "Write a function to return one of 3 possible results: \"No ticket\", \"Small ticket\", or \"Big Ticket\". \n",
    "If your speed is 60 or less, the result is \"No Ticket\". \n",
    "If speed is between 61 and 80 inclusive, the result is \"Small Ticket\". If speed is 81 or more, the result is \"Big Ticket\". \n",
    "Unless it is your birthday (encoded as a boolean value in the \n",
    "parameters of the function) -- on your birthday, your speed can be 5 higher in all cases. \n",
    "\n",
    "\"\"\""
   ]
  },
  {
   "cell_type": "code",
   "execution_count": 127,
   "id": "250739ff",
   "metadata": {},
   "outputs": [
    {
     "name": "stdout",
     "output_type": "stream",
     "text": [
      "Big Ticket\n"
     ]
    }
   ],
   "source": [
    "def caught_speeding(speed,is_birthday):\n",
    "    if is_birthday == True:\n",
    "        m_speed = speed-5\n",
    "    else: \n",
    "         m_speed = speed\n",
    "        \n",
    "    if m_speed <= 60:\n",
    "        print('No Ticket')\n",
    "    elif m_speed in range(61,81):\n",
    "        print('Small Ticket')\n",
    "    elif m_speed >= 81:\n",
    "        print('Big Ticket')\n",
    "\n",
    "caught_speeding(86,True)"
   ]
  },
  {
   "cell_type": "code",
   "execution_count": null,
   "id": "4b80a344",
   "metadata": {},
   "outputs": [],
   "source": []
  },
  {
   "cell_type": "code",
   "execution_count": null,
   "id": "ebbb3bd4",
   "metadata": {},
   "outputs": [],
   "source": []
  }
 ],
 "metadata": {
  "kernelspec": {
   "display_name": "Python 3 (ipykernel)",
   "language": "python",
   "name": "python3"
  },
  "language_info": {
   "codemirror_mode": {
    "name": "ipython",
    "version": 3
   },
   "file_extension": ".py",
   "mimetype": "text/x-python",
   "name": "python",
   "nbconvert_exporter": "python",
   "pygments_lexer": "ipython3",
   "version": "3.9.0"
  },
  "varInspector": {
   "cols": {
    "lenName": 16,
    "lenType": 16,
    "lenVar": 40
   },
   "kernels_config": {
    "python": {
     "delete_cmd_postfix": "",
     "delete_cmd_prefix": "del ",
     "library": "var_list.py",
     "varRefreshCmd": "print(var_dic_list())"
    },
    "r": {
     "delete_cmd_postfix": ") ",
     "delete_cmd_prefix": "rm(",
     "library": "var_list.r",
     "varRefreshCmd": "cat(var_dic_list()) "
    }
   },
   "types_to_exclude": [
    "module",
    "function",
    "builtin_function_or_method",
    "instance",
    "_Feature"
   ],
   "window_display": false
  }
 },
 "nbformat": 4,
 "nbformat_minor": 5
}
